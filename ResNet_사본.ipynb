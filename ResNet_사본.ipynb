{
  "nbformat": 4,
  "nbformat_minor": 0,
  "metadata": {
    "accelerator": "GPU",
    "colab": {
      "name": "ResNet.ipynb의 사본",
      "provenance": [],
      "collapsed_sections": []
    },
    "kernelspec": {
      "display_name": "Python 3",
      "name": "python3"
    },
    "gpuClass": "standard"
  },
  "cells": [
    {
      "cell_type": "markdown",
      "metadata": {
        "id": "cMLFVFOHcjKd"
      },
      "source": [
        "### 라이브러리 불러오기"
      ]
    },
    {
      "cell_type": "code",
      "metadata": {
        "colab": {
          "base_uri": "https://localhost:8080/"
        },
        "id": "UM2l04cVwr3z",
        "outputId": "304401fe-e28f-41ab-da88-ee0856e7bf0d"
      },
      "source": [
        "try:\n",
        "  %tensorflow_version 2.x\n",
        "except Exception:\n",
        "  pass\n",
        "import tensorflow as tf\n",
        "print(tf.__version__) # 2.4.1\n",
        "\n",
        "import numpy as np\n",
        "import os"
      ],
      "execution_count": null,
      "outputs": [
        {
          "output_type": "stream",
          "name": "stdout",
          "text": [
            "2.8.2\n"
          ]
        }
      ]
    },
    {
      "cell_type": "markdown",
      "metadata": {
        "id": "hTiUfi-7033z"
      },
      "source": [
        "### config\n",
        "네트워크, 인풋 이미지, 학습 등을 위해 필요한 기본 정보들을 선언한다."
      ]
    },
    {
      "cell_type": "code",
      "metadata": {
        "id": "3h-n7E5B05Ab"
      },
      "source": [
        "BATCH_SIZE = 64\n",
        "SHUFFLE_BUFFER_SIZE = 100\n",
        "IMAGE_WIDTH = 32\n",
        "IMAGE_HEIGHT = 32\n",
        "NUM_CLASSES = 10\n",
        "CHANNELS = 3"
      ],
      "execution_count": null,
      "outputs": []
    },
    {
      "cell_type": "markdown",
      "metadata": {
        "id": "HRjl9pRyyFcR"
      },
      "source": [
        "### 데이터 준비\n",
        "CIFAR-10 데이터셋을 로드하고, preprocessing 과정이다. CIFAR-10 데이터셋은 은 50,000개의 학습 데이터와 10,000개의 테스트 데이터로 구성된 32*32 크기의 이미지 데이터셋이다. 총 10개 class로 분류되어있다. \n",
        "\n",
        "기본적으로 모든 이미지에 resize와 per-pixel mean subtraction이 들어간다. 훈련 데이터셋에 대해서는 data augmentation을 추가로 진행한다. augmentaion은 4px padding 이후 32*32 size random crop과 horizontal flip이 들어간다."
      ]
    },
    {
      "cell_type": "code",
      "metadata": {
        "id": "k66XCgH-yF7m"
      },
      "source": [
        "from keras.datasets import cifar10\n",
        "\n",
        "def generate_datasets():\n",
        "  (X_train, y_train), (X_test, y_test) = cifar10.load_data() # cifar 10 데이터셋 로드\n",
        "  X_test, y_test = resize_and_rescale(X_test, y_test)\n",
        "  X_train, y_train = augment(X_train, y_train)\n",
        "  return X_train, y_train, X_test, y_test\n",
        "\n",
        "def resize_and_rescale(image, label):\n",
        "  image = tf.cast(image, tf.float32)\n",
        "  image = tf.image.resize(image, [IMAGE_WIDTH, IMAGE_HEIGHT])\n",
        "  if os.path.exists('pixel_mean_value.npy'):\n",
        "    mean_image = np.load('pixel_mean_value.npy')\n",
        "  else:\n",
        "    mean_image = np.mean(image, axis=0)\n",
        "  image -= mean_image\n",
        "  image = (image / 128.0)\n",
        "  return image, label\n",
        "\n",
        "def augment(image,label):\n",
        "  image, label = resize_and_rescale(image, label)\n",
        "  # Add 4 pixels of padding\n",
        "  image = tf.map_fn(lambda img: tf.image.resize_with_crop_or_pad(img, IMAGE_WIDTH + 4, IMAGE_HEIGHT + 4), image)\n",
        "   # Random crop back to the original size\n",
        "  image = tf.map_fn(lambda img: tf.image.random_crop(img, size=[IMAGE_WIDTH, IMAGE_HEIGHT, 3]), image)\n",
        "  image = tf.map_fn(lambda img: tf.image.random_flip_left_right(img), image)  \n",
        "  return image, label"
      ],
      "execution_count": null,
      "outputs": []
    },
    {
      "cell_type": "markdown",
      "metadata": {
        "id": "d2kjAFOtyGA2"
      },
      "source": [
        "### 모델 생성\n",
        "여기서는 20레이어로 구성된 Resnet을 사용한다. Resnet에는 Basic block으로 여러 convolution layer를 묶고, 여기에 initial mapping을 더하는 방식을 사용한다. Basic block은 2쌍 이상의 convolution과 batch normalization layer로 구성되어 있다. 아래 표를 참고하면 우리는 n=3을 넣어서 마지막 fully connected layer까지 포함하여 20개의 레이어를 쌓을 것이다. \n",
        "\n",
        "![](https://github.com/SUNGBEOMCHOI/SungBeomChoi.github.io/blob/master/assets/img/posts/2021-03-17-Resnet_Implementation/fig3.JPG?raw=true)\n",
        "\n",
        "#### 논문의 Implementaion\n",
        "\n",
        "-   Weight decay: 0.0001, momentum: 0.9\n",
        "-   모든 convonlution filter의 size는 3*3\n",
        "-   He weight initialization\n",
        "-   Batch normalization\n",
        "-   batch size : 128\n",
        "-   learning rate는 0.1로 시작하고, 32k와 48k iteration에 각각 10으로 나눠준다.\n",
        "-   마지막 부분에 global average pooling을 적용\n",
        "\n",
        "<br>\n",
        "\n",
        "#### 나의 Implementaion\n",
        "\n",
        "-   learning rate를 2epoch 이상 validation loss가 떨어지지 않으면 0.1을 곱한다. 최종 0.001 까지 떨어뜨린다.\n",
        "-   Early stopping을 사용하여 validation loss가 4epoch 이상 떨어지지않으면 학습을 멈춘다."
      ]
    },
    {
      "cell_type": "code",
      "metadata": {
        "id": "E80apqqV1AyF"
      },
      "source": [
        "class BasicBlock(tf.keras.layers.Layer):  \n",
        "  def __init__(self, filter_num, stride=1):\n",
        "    super(BasicBlock, self).__init__()\n",
        "    initializer = tf.keras.initializers.HeNormal()\n",
        "    l2 = tf.keras.regularizers.l2(0.0001)\n",
        "    self.conv1 = tf.keras.layers.Conv2D(filters=filter_num, kernel_size=(3,3), strides=stride, padding='same', kernel_regularizer=l2, kernel_initializer=initializer)\n",
        "    self.bn1 = tf.keras.layers.BatchNormalization()\n",
        "    self.conv2 = tf.keras.layers.Conv2D(filters=filter_num, kernel_size=(3,3), strides=1, padding='same', kernel_regularizer=l2, kernel_initializer=initializer)\n",
        "    self.bn2 = tf.keras.layers.BatchNormalization()\n",
        "    if stride != 1:\n",
        "      self.downsample = tf.keras.Sequential()\n",
        "      self.downsample.add(tf.keras.layers.Conv2D(filters=filter_num, kernel_size=(1,1), strides=stride, kernel_regularizer=l2, kernel_initializer=initializer))\n",
        "      self.downsample.add(tf.keras.layers.BatchNormalization())\n",
        "    else:\n",
        "      self.downsample = lambda x: x\n",
        "\n",
        "  def call(self, inputs, **kwargs):\n",
        "    residual = self.downsample(inputs)\n",
        "\n",
        "    x = self.conv1(inputs)\n",
        "    x = self.bn1(x)\n",
        "    x = tf.nn.relu(x)\n",
        "    x = self.conv2(x)\n",
        "    x = self.bn2(x)\n",
        "\n",
        "    output = tf.nn.relu(tf.keras.layers.add([residual, x]))\n",
        "\n",
        "    return output\n",
        "\n",
        "\n",
        "def make_basic_block_layer(filter_num, blocks, stride=1):\n",
        "  res_block = tf.keras.Sequential()\n",
        "  res_block.add(BasicBlock(filter_num, stride=stride))\n",
        "\n",
        "  for _ in range(1, blocks):\n",
        "    res_block.add(BasicBlock(filter_num, stride=1))\n",
        "\n",
        "  return res_block\n",
        "\n",
        "\n",
        "class ResNet(tf.keras.Model):  \n",
        "  def __init__(self, layer_params):\n",
        "    super(ResNet, self).__init__()\n",
        "    initializer = tf.keras.initializers.HeNormal()\n",
        "    l2 = tf.keras.regularizers.l2(0.0001)\n",
        "    self.conv1 = tf.keras.layers.Conv2D(filters=16, kernel_size=(3, 3), strides=1, padding='same', kernel_regularizer=l2, kernel_initializer=initializer)\n",
        "    self.bn1 = tf.keras.layers.BatchNormalization()\n",
        "    self.layer1 = make_basic_block_layer(filter_num=16, blocks=layer_params[0], stride=2)\n",
        "    self.layer2 = make_basic_block_layer(filter_num=32, blocks=layer_params[1], stride=2)\n",
        "    self.layer3 = make_basic_block_layer(filter_num=64, blocks=layer_params[2], stride=2)\n",
        "    self.avgpool = tf.keras.layers.GlobalAveragePooling2D()\n",
        "    self.fc = tf.keras.layers.Dense(units=NUM_CLASSES, activation=tf.keras.activations.softmax, kernel_regularizer=l2, kernel_initializer=initializer)\n",
        "\n",
        "  def call(self, inputs):\n",
        "    x = self.conv1(inputs)\n",
        "    x = self.bn1(x)\n",
        "    x = tf.nn.relu(x)\n",
        "    x = self.layer1(x)\n",
        "    x = self.layer2(x)\n",
        "    x = self.layer3(x)\n",
        "    x = self.avgpool(x)\n",
        "    output = self.fc(x)\n",
        "\n",
        "    return output\n",
        "\n",
        "def get_model():\n",
        "  model = ResNet(layer_params=[3, 3, 3])\n",
        "  model.build(input_shape=(None, IMAGE_WIDTH, IMAGE_HEIGHT, CHANNELS))\n",
        "  model.compile(optimizer=tf.keras.optimizers.SGD(lr=0.1, momentum=0.9, nesterov=False), loss='sparse_categorical_crossentropy', metrics=['accuracy'])\n",
        "  model.summary()\n",
        "  return model"
      ],
      "execution_count": null,
      "outputs": []
    },
    {
      "cell_type": "markdown",
      "metadata": {
        "id": "vYESTTPf0tp_"
      },
      "source": [
        "### 학습"
      ]
    },
    {
      "cell_type": "code",
      "metadata": {
        "id": "5x4sO1yQG0al",
        "outputId": "58293d62-812f-4c4d-c573-f5153bd96221",
        "colab": {
          "base_uri": "https://localhost:8080/"
        }
      },
      "source": [
        "X_train, y_train, X_test, y_test = generate_datasets()"
      ],
      "execution_count": null,
      "outputs": [
        {
          "output_type": "stream",
          "name": "stdout",
          "text": [
            "Downloading data from https://www.cs.toronto.edu/~kriz/cifar-10-python.tar.gz\n",
            "170500096/170498071 [==============================] - 2s 0us/step\n",
            "170508288/170498071 [==============================] - 2s 0us/step\n"
          ]
        }
      ]
    },
    {
      "cell_type": "code",
      "metadata": {
        "colab": {
          "base_uri": "https://localhost:8080/"
        },
        "id": "N9SLRM2cyF-W",
        "outputId": "e8d9405f-b977-478a-86d8-aa1cd3a0d709"
      },
      "source": [
        "print('train input shape: ', X_train.shape)\n",
        "print('test input shape: ', X_test.shape)\n",
        "print('train output shape: ', y_train.shape)\n",
        "print('train oupput shape: ', y_train.shape)"
      ],
      "execution_count": null,
      "outputs": [
        {
          "output_type": "stream",
          "name": "stdout",
          "text": [
            "train input shape:  (50000, 32, 32, 3)\n",
            "test input shape:  (10000, 32, 32, 3)\n",
            "train output shape:  (50000, 1)\n",
            "train oupput shape:  (50000, 1)\n"
          ]
        }
      ]
    },
    {
      "cell_type": "code",
      "metadata": {
        "colab": {
          "base_uri": "https://localhost:8080/"
        },
        "id": "heX5P93aYBF1",
        "outputId": "f192fe62-faa1-497b-8e00-dd43e3f02753"
      },
      "source": [
        "model = get_model()"
      ],
      "execution_count": null,
      "outputs": [
        {
          "output_type": "stream",
          "name": "stdout",
          "text": [
            "Model: \"res_net\"\n",
            "_________________________________________________________________\n",
            " Layer (type)                Output Shape              Param #   \n",
            "=================================================================\n",
            " conv2d (Conv2D)             multiple                  448       \n",
            "                                                                 \n",
            " batch_normalization (BatchN  multiple                 64        \n",
            " ormalization)                                                   \n",
            "                                                                 \n",
            " sequential (Sequential)     (None, 16, 16, 16)        14640     \n",
            "                                                                 \n",
            " sequential_2 (Sequential)   (None, 8, 8, 32)          52320     \n",
            "                                                                 \n",
            " sequential_4 (Sequential)   (None, 4, 4, 64)          207040    \n",
            "                                                                 \n",
            " global_average_pooling2d (G  multiple                 0         \n",
            " lobalAveragePooling2D)                                          \n",
            "                                                                 \n",
            " dense (Dense)               multiple                  650       \n",
            "                                                                 \n",
            "=================================================================\n",
            "Total params: 275,162\n",
            "Trainable params: 273,562\n",
            "Non-trainable params: 1,600\n",
            "_________________________________________________________________\n"
          ]
        },
        {
          "output_type": "stream",
          "name": "stderr",
          "text": [
            "/usr/local/lib/python3.7/dist-packages/keras/optimizer_v2/gradient_descent.py:102: UserWarning: The `lr` argument is deprecated, use `learning_rate` instead.\n",
            "  super(SGD, self).__init__(name, **kwargs)\n"
          ]
        }
      ]
    },
    {
      "cell_type": "code",
      "metadata": {
        "colab": {
          "base_uri": "https://localhost:8080/"
        },
        "id": "SjDtY3KIIV_8",
        "outputId": "b0d49711-d554-4a4f-e6e0-ad2edecb888e"
      },
      "source": [
        "lr_schedule = tf.keras.callbacks.ReduceLROnPlateau(monitor='val_loss', factor=0.1, patience=2, min_lr=0.001)\n",
        "early_stopping = tf.keras.callbacks.EarlyStopping(patience=3, monitor='val_loss')\n",
        "\n",
        "history = model.fit(X_train, y_train, epochs=180, validation_split=0.1, batch_size=BATCH_SIZE, callbacks=[lr_schedule, early_stopping])"
      ],
      "execution_count": null,
      "outputs": [
        {
          "output_type": "stream",
          "name": "stdout",
          "text": [
            "Epoch 1/180\n",
            "704/704 [==============================] - 24s 15ms/step - loss: 1.8601 - accuracy: 0.3725 - val_loss: 2.1045 - val_accuracy: 0.3412 - lr: 0.1000\n",
            "Epoch 2/180\n",
            "704/704 [==============================] - 10s 14ms/step - loss: 1.4822 - accuracy: 0.5176 - val_loss: 1.4207 - val_accuracy: 0.5570 - lr: 0.1000\n",
            "Epoch 3/180\n",
            "704/704 [==============================] - 10s 14ms/step - loss: 1.2681 - accuracy: 0.6085 - val_loss: 1.3024 - val_accuracy: 0.5988 - lr: 0.1000\n",
            "Epoch 4/180\n",
            "704/704 [==============================] - 10s 14ms/step - loss: 1.1354 - accuracy: 0.6623 - val_loss: 1.5344 - val_accuracy: 0.5452 - lr: 0.1000\n",
            "Epoch 5/180\n",
            "704/704 [==============================] - 10s 14ms/step - loss: 1.0451 - accuracy: 0.7020 - val_loss: 1.1170 - val_accuracy: 0.6936 - lr: 0.1000\n",
            "Epoch 6/180\n",
            "704/704 [==============================] - 10s 15ms/step - loss: 0.9722 - accuracy: 0.7328 - val_loss: 1.1124 - val_accuracy: 0.6842 - lr: 0.1000\n",
            "Epoch 7/180\n",
            "704/704 [==============================] - 10s 14ms/step - loss: 0.9288 - accuracy: 0.7513 - val_loss: 1.2562 - val_accuracy: 0.6532 - lr: 0.1000\n",
            "Epoch 8/180\n",
            "704/704 [==============================] - 10s 14ms/step - loss: 0.8935 - accuracy: 0.7689 - val_loss: 1.0541 - val_accuracy: 0.7208 - lr: 0.1000\n",
            "Epoch 9/180\n",
            "704/704 [==============================] - 10s 14ms/step - loss: 0.8637 - accuracy: 0.7828 - val_loss: 1.0852 - val_accuracy: 0.7206 - lr: 0.1000\n",
            "Epoch 10/180\n",
            "704/704 [==============================] - 11s 15ms/step - loss: 0.8424 - accuracy: 0.7958 - val_loss: 1.1557 - val_accuracy: 0.7002 - lr: 0.1000\n",
            "Epoch 11/180\n",
            "704/704 [==============================] - 10s 14ms/step - loss: 0.6887 - accuracy: 0.8539 - val_loss: 0.8485 - val_accuracy: 0.7994 - lr: 0.0100\n",
            "Epoch 12/180\n",
            "704/704 [==============================] - 10s 14ms/step - loss: 0.5558 - accuracy: 0.8972 - val_loss: 0.8608 - val_accuracy: 0.7996 - lr: 0.0100\n",
            "Epoch 13/180\n",
            "704/704 [==============================] - 10s 14ms/step - loss: 0.5024 - accuracy: 0.9158 - val_loss: 0.8717 - val_accuracy: 0.8030 - lr: 0.0100\n",
            "Epoch 14/180\n",
            "704/704 [==============================] - 10s 14ms/step - loss: 0.4524 - accuracy: 0.9344 - val_loss: 0.8653 - val_accuracy: 0.8066 - lr: 0.0010\n"
          ]
        }
      ]
    },
    {
      "cell_type": "markdown",
      "metadata": {
        "id": "YLjDf1rqdNkR"
      },
      "source": [
        "### 학습 그래프 그리기\n",
        "10 epoch 정도 이후에는 학습이 거의 이루어지지 않고, 오버피팅된다. 최종  validation loss는 1.0정도, validation accuracy는 80% 정도 나온다. 해당 논문에서는 error rate가 8.75%인 것에 비해 잘 성능이 나오지 않았다."
      ]
    },
    {
      "cell_type": "code",
      "metadata": {
        "colab": {
          "base_uri": "https://localhost:8080/",
          "height": 283
        },
        "id": "DA4FN6gsJ_kq",
        "outputId": "bfe1265a-a320-4961-e2fd-d4ac799f56d4"
      },
      "source": [
        "import matplotlib.pyplot as plt\n",
        "\n",
        "plt.figure(figsize=(12, 4))\n",
        "\n",
        "plt.subplot(1, 2, 1)\n",
        "plt.plot(history.history['loss'], 'b-', label='loss')\n",
        "plt.plot(history.history['val_loss'], 'r--', label='val_loss')\n",
        "plt.ylim(0, 3)\n",
        "plt.xlabel('Epoch')\n",
        "plt.legend()\n",
        "\n",
        "plt.subplot(1, 2, 2)\n",
        "plt.plot(history.history['accuracy'], 'b-', label='accuracy')\n",
        "plt.plot(history.history['val_accuracy'], 'r--', label='val_accuracy')\n",
        "plt.xlabel('Epoch')\n",
        "plt.legend()\n",
        "\n",
        "plt.show()"
      ],
      "execution_count": null,
      "outputs": [
        {
          "output_type": "display_data",
          "data": {
            "text/plain": [
              "<Figure size 864x288 with 2 Axes>"
            ],
            "image/png": "[encoded data removed]"
          },
          "metadata": {
            "needs_background": "light"
          }
        }
      ]
    },
    {
      "cell_type": "markdown",
      "metadata": {
        "id": "1n0n5y9_LCti"
      },
      "source": [
        "### 평가\n",
        "Test 데이터의 정확도는 77% 정도이다. "
      ]
    },
    {
      "cell_type": "code",
      "metadata": {
        "colab": {
          "base_uri": "https://localhost:8080/"
        },
        "id": "1HEk-uX4LDRL",
        "outputId": "b45854ac-4299-4dac-871b-efbf2f70f47b"
      },
      "source": [
        "model.evaluate(X_test, y_test, verbose=0) # [loss, accuracy]"
      ],
      "execution_count": null,
      "outputs": [
        {
          "output_type": "execute_result",
          "data": {
            "text/plain": [
              "[0.8866699934005737, 0.8044000267982483]"
            ]
          },
          "metadata": {},
          "execution_count": 10
        }
      ]
    },
    {
      "cell_type": "markdown",
      "metadata": {
        "id": "ZOs_PPlNdYXi"
      },
      "source": [
        "### 모델 다운로드"
      ]
    },
    {
      "cell_type": "code",
      "metadata": {
        "colab": {
          "base_uri": "https://localhost:8080/",
          "height": 17
        },
        "id": "tSMYphi9AnrN",
        "outputId": "fec54fb9-8acb-4137-f5f0-cd0dbe86b0f1"
      },
      "source": [
        "# 모델 다운로드\n",
        "model.save_weights('ResNet_20.h5') # 모델을 코랩에 저장\n",
        "\n",
        "from google.colab import files\n",
        "files.download('ResNet_20.h5')# 코랩에 저장된 모델을 로컬로 다운로드"
      ],
      "execution_count": null,
      "outputs": [
        {
          "output_type": "display_data",
          "data": {
            "text/plain": [
              "<IPython.core.display.Javascript object>"
            ],
            "application/javascript": [
              "\n",
              "    async function download(id, filename, size) {\n",
              "      if (!google.colab.kernel.accessAllowed) {\n",
              "        return;\n",
              "      }\n",
              "      const div = document.createElement('div');\n",
              "      const label = document.createElement('label');\n",
              "      label.textContent = `Downloading \"${filename}\": `;\n",
              "      div.appendChild(label);\n",
              "      const progress = document.createElement('progress');\n",
              "      progress.max = size;\n",
              "      div.appendChild(progress);\n",
              "      document.body.appendChild(div);\n",
              "\n",
              "      const buffers = [];\n",
              "      let downloaded = 0;\n",
              "\n",
              "      const channel = await google.colab.kernel.comms.open(id);\n",
              "      // Send a message to notify the kernel that we're ready.\n",
              "      channel.send({})\n",
              "\n",
              "      for await (const message of channel.messages) {\n",
              "        // Send a message to notify the kernel that we're ready.\n",
              "        channel.send({})\n",
              "        if (message.buffers) {\n",
              "          for (const buffer of message.buffers) {\n",
              "            buffers.push(buffer);\n",
              "            downloaded += buffer.byteLength;\n",
              "            progress.value = downloaded;\n",
              "          }\n",
              "        }\n",
              "      }\n",
              "      const blob = new Blob(buffers, {type: 'application/binary'});\n",
              "      const a = document.createElement('a');\n",
              "      a.href = window.URL.createObjectURL(blob);\n",
              "      a.download = filename;\n",
              "      div.appendChild(a);\n",
              "      a.click();\n",
              "      div.remove();\n",
              "    }\n",
              "  "
            ]
          },
          "metadata": {}
        },
        {
          "output_type": "display_data",
          "data": {
            "text/plain": [
              "<IPython.core.display.Javascript object>"
            ],
            "application/javascript": [
              "download(\"download_d5ca8f4d-c46f-4418-9945-2cac24b5269c\", \"ResNet_20.h5\", 1215544)"
            ]
          },
          "metadata": {}
        }
      ]
    }
  ]
}